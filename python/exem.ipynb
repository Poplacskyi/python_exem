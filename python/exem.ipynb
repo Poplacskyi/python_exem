

def display_tasks(tasks):
    
    if not tasks:
        print("Немає завдань у списку.")
        return
    for idx, task in enumerate(tasks, start=1):
        print(f"{idx}. Назва: {task['title']} | Опис: {task['description']} | Пріоритет: {task['priority']} | Статус: {task['status']}")

def add_task(tasks):
    
    title = input("Введіть назву завдання: ")
    description = input("Введіть опис завдання: ")
    priority = input("Встановіть пріоритет завдання (наприклад, високий, середній, низький): ")
    status = "нове"  
    tasks.append({"title": title, "description": description, "priority": priority, "status": status})
    print("Завдання додано успішно!")

def remove_task(tasks):
    
    display_tasks(tasks)
    if tasks:
        idx = int(input("Введіть номер завдання, яке потрібно видалити: ")) - 1
        if 0 <= idx < len(tasks):
            del tasks[idx]
            print("Завдання видалено успішно!")
        else:
            print("Невірний номер завдання!")

def edit_task(tasks):
    
    display_tasks(tasks)
    if tasks:
        idx = int(input("Введіть номер завдання, яке потрібно редагувати: ")) - 1
        if 0 <= idx < len(tasks):
            task = tasks[idx]
            task['title'] = input(f"Введіть нову назву (поточна: {task['title']}): ") or task['title']
            task['description'] = input(f"Введіть новий опис (поточний: {task['description']}): ") or task['description']
            task['priority'] = input(f"Встановіть новий пріоритет (поточний: {task['priority']}): ") or task['priority']

            
            print("Виберіть новий статус для завдання:")
            print("1. Нове")
            print("2. У процесі")
            print("3. Виконане")
            status_choice = input("Введіть номер статусу: ")
            if status_choice == "1":
                task['status'] = "нове"
            elif status_choice == "2":
                task['status'] = "у процесі"
            elif status_choice == "3":
                task['status'] = "виконане"

            print("Завдання оновлено успішно!")
        else:
            print("Невірний номер завдання!")

def search_task(tasks):
    
    query = input("Введіть назву або статус для пошуку: ").lower()
    found_tasks = [task for task in tasks if query in task['title'].lower() or query in task['status'].lower()]
    if found_tasks:
        display_tasks(found_tasks)
    else:
        print("Завдань, що відповідають критеріям пошуку, не знайдено.")

def main():
    tasks = []
    while True:
        print("\nКонсольна програма для управління завданнями (Туду-ліст)")
        print("1. Додати завдання")
        print("2. Видалити завдання")
        print("3. Редагувати завдання")
        print("4. Пошук завдань")
        print("5. Показати всі завдання")
        print("0. Вийти з програми")

        choice = input("Виберіть опцію: ")

        if choice == "1":
            add_task(tasks)
        elif choice == "2":
            remove_task(tasks)
        elif choice == "3":
            edit_task(tasks)
        elif choice == "4":
            search_task(tasks)
        elif choice == "5":
            display_tasks(tasks)
        elif choice == "0":
            break
        else:
            print("Невірний вибір, спробуйте знову.")

if __name__ == "__main__":
    main()
0
